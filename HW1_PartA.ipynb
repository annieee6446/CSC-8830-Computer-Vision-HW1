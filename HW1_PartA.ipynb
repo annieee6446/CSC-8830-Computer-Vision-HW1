{
 "cells": [
  {
   "cell_type": "code",
   "execution_count": 3,
   "id": "dda0c2ff",
   "metadata": {},
   "outputs": [],
   "source": [
    "import numpy as np\n",
    "\n",
    "import pytransform3d.rotations as pr\n",
    "from pytransform3d.plot_utils import plot_vector"
   ]
  },
  {
   "cell_type": "code",
   "execution_count": 6,
   "id": "a06a71f6",
   "metadata": {},
   "outputs": [],
   "source": [
    "origin = np.array([0, 0, 0])\n",
    "\n",
    "# basis vectors\n",
    "x = np.array([1, 0, 0])\n",
    "y = np.array([0, 1, 0])\n",
    "z = np.array([0, 0, 1])\n",
    "\n",
    "# basis vectors as homogeneous coordinates\n",
    "xh = np.array([1, 0, 0, 1])\n",
    "yh = np.array([0, 1, 0, 1])\n",
    "zh = np.array([0, 0, 1, 1])"
   ]
  },
  {
   "cell_type": "code",
   "execution_count": 7,
   "id": "b3d44009",
   "metadata": {},
   "outputs": [],
   "source": [
    "# Get transformation matrix\n",
    "def get_rot_x(angle):\n",
    "    '''\n",
    "    transformation matrix that rotates a point about the standard X axis\n",
    "    '''\n",
    "    Rx = np.zeros(shape=(3, 3))\n",
    "    Rx[0, 0] = 1\n",
    "    Rx[1, 1] = np.cos(angle)\n",
    "    Rx[1, 2] = -np.sin(angle)\n",
    "    Rx[2, 1] = np.sin(angle)\n",
    "    Rx[2, 2] = np.cos(angle)\n",
    "    \n",
    "    return Rx\n",
    "\n",
    "def get_rot_y(angle):\n",
    "    '''\n",
    "    transformation matrix that rotates a point about the standard Y axis\n",
    "    '''\n",
    "    Ry = np.zeros(shape=(3, 3))\n",
    "    Ry[0, 0] = np.cos(angle)\n",
    "    Ry[0, 2] = -np.sin(angle)\n",
    "    Ry[2, 0] = np.sin(angle)\n",
    "    Ry[2, 2] = np.cos(angle)\n",
    "    Ry[1, 1] = 1\n",
    "    \n",
    "    return Ry\n",
    "\n",
    "def get_rot_z(angle):\n",
    "    '''\n",
    "    transformation matrix that rotates a point about the standard Z axis\n",
    "    '''\n",
    "    Rz = np.zeros(shape=(3, 3))\n",
    "    Rz[0, 0] = np.cos(angle)\n",
    "    Rz[0, 1] = -np.sin(angle)\n",
    "    Rz[1, 0] = np.sin(angle)\n",
    "    Rz[1, 1] = np.cos(angle)\n",
    "    Rz[2, 2] = 1\n",
    "    \n",
    "    return Rz"
   ]
  },
  {
   "cell_type": "code",
   "execution_count": 8,
   "id": "328fbe3a",
   "metadata": {},
   "outputs": [],
   "source": [
    "def create_rotation_transformation_matrix(angles, order):\n",
    "    '''\n",
    "    Create a matrix that rotates a vector through the given angles in the given order\n",
    "    wrt the standard global axes (extrinsic rotation)\n",
    "    Note: The rotation is carried out anti-clockwise in a left handed axial system\n",
    "    \n",
    "    Parameters\n",
    "    -----------\n",
    "    angles - list\n",
    "        list of angles in radians\n",
    "    order - string\n",
    "        the order in which to rotate\n",
    "        \n",
    "    Returns\n",
    "    --------\n",
    "    net - np.ndarray, shape - (3, 3)\n",
    "        The transformation matrix which carries out the given rotations\n",
    "    '''\n",
    "    fn_mapping = {'x': get_rot_x, 'y': get_rot_y, 'z': get_rot_z}\n",
    "    net = np.identity(3)\n",
    "    for angle, axis in list(zip(angles, order))[::-1]:\n",
    "        if fn_mapping.get(axis) is None:\n",
    "            raise ValueError(\"Invalid axis\")\n",
    "        R = fn_mapping.get(axis)\n",
    "        net = np.matmul(net, R(angle))\n",
    "        \n",
    "    return net\n",
    "\n",
    "def create_translation_matrix(offset):\n",
    "    '''\n",
    "    Create a transformation matrix that translates a vetor by the given offset\n",
    "    \n",
    "    Parameters\n",
    "    -----------\n",
    "    offset - np.ndarray, shape - (3,)\n",
    "        The translation offset\n",
    "    \n",
    "    Returns\n",
    "    ----------\n",
    "    T - np.ndarray, shape - (4, 4)\n",
    "        The translation matrix\n",
    "    '''\n",
    "    T = np.identity(4)\n",
    "    T[:3, 3] = offset\n",
    "    return T"
   ]
  },
  {
   "cell_type": "code",
   "execution_count": 9,
   "id": "18666583",
   "metadata": {},
   "outputs": [],
   "source": [
    "R = create_rotation_transformation_matrix([np.pi/12], 'y')\n",
    "R_ = np.identity(4)\n",
    "R_[:3, :3] = R\n",
    "\n",
    "# create translation transformation matrix\n",
    "T_ = create_translation_matrix(np.array([0, 28, 0]))"
   ]
  },
  {
   "cell_type": "code",
   "execution_count": 10,
   "id": "6e539f14",
   "metadata": {},
   "outputs": [
    {
     "data": {
      "text/plain": [
       "(array([[ 0.96592583,  0.        , -0.25881905,  0.        ],\n",
       "        [ 0.        ,  1.        ,  0.        ,  0.        ],\n",
       "        [ 0.25881905,  0.        ,  0.96592583,  0.        ],\n",
       "        [ 0.        ,  0.        ,  0.        ,  1.        ]]),\n",
       " array([[ 1.,  0.,  0.,  0.],\n",
       "        [ 0.,  1.,  0., 28.],\n",
       "        [ 0.,  0.,  1.,  0.],\n",
       "        [ 0.,  0.,  0.,  1.]]))"
      ]
     },
     "execution_count": 10,
     "metadata": {},
     "output_type": "execute_result"
    }
   ],
   "source": [
    "R_, T_"
   ]
  },
  {
   "cell_type": "code",
   "execution_count": 11,
   "id": "6ba044f8",
   "metadata": {},
   "outputs": [],
   "source": [
    "def compute_intrinsic_parameter_matrix(f, s, a, cx, cy):\n",
    "    K = np.identity(3)\n",
    "    K[0, 0] = f\n",
    "    K[0, 1] = s\n",
    "    K[0, 2] = cx\n",
    "    K[1, 1] = a * f\n",
    "    K[1, 2] = cy\n",
    "    \n",
    "    return K"
   ]
  },
  {
   "cell_type": "code",
   "execution_count": 12,
   "id": "7bff7595",
   "metadata": {},
   "outputs": [
    {
     "data": {
      "text/plain": [
       "array([[ 3.37,  0.  ,  0.  ],\n",
       "       [ 0.  ,  3.37, 28.  ],\n",
       "       [ 0.  ,  0.  ,  1.  ]])"
      ]
     },
     "execution_count": 12,
     "metadata": {},
     "output_type": "execute_result"
    }
   ],
   "source": [
    "intrinsic_matrix = compute_intrinsic_parameter_matrix(3.37,0,1,0,28)\n",
    "intrinsic_matrix"
   ]
  },
  {
   "cell_type": "code",
   "execution_count": 13,
   "id": "15b0e685",
   "metadata": {},
   "outputs": [],
   "source": [
    "import cv2"
   ]
  },
  {
   "cell_type": "code",
   "execution_count": 14,
   "id": "77027ec0",
   "metadata": {},
   "outputs": [],
   "source": [
    "# Four corners in source image\n",
    "pts_src = np.array([[684, 530], [728, 529], [685, 574],[728, 572]])\n",
    "\n",
    "# Four corners in destination image\n",
    "pts_dst = np.array([[661, 591],[704, 592],[660, 633],[702, 634]])\n",
    "\n",
    "# Calculate Homography\n",
    "h, status = cv2.findHomography(pts_src, pts_dst)"
   ]
  },
  {
   "cell_type": "code",
   "execution_count": 15,
   "id": "700108ca",
   "metadata": {},
   "outputs": [
    {
     "data": {
      "text/plain": [
       "array([[ 4.30592128e-01, -2.07816394e-02,  2.00839446e+02],\n",
       "       [-2.06908950e-01,  7.09575758e-01,  1.98508004e+02],\n",
       "       [-4.04476587e-04,  1.77654352e-05,  1.00000000e+00]])"
      ]
     },
     "execution_count": 15,
     "metadata": {},
     "output_type": "execute_result"
    }
   ],
   "source": [
    "h"
   ]
  },
  {
   "cell_type": "code",
   "execution_count": null,
   "id": "40966d85",
   "metadata": {},
   "outputs": [],
   "source": []
  }
 ],
 "metadata": {
  "kernelspec": {
   "display_name": "Python 3",
   "language": "python",
   "name": "python3"
  },
  "language_info": {
   "codemirror_mode": {
    "name": "ipython",
    "version": 3
   },
   "file_extension": ".py",
   "mimetype": "text/x-python",
   "name": "python",
   "nbconvert_exporter": "python",
   "pygments_lexer": "ipython3",
   "version": "3.8.8"
  }
 },
 "nbformat": 4,
 "nbformat_minor": 5
}
